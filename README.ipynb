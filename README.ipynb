{
 "cells": [
  {
   "cell_type": "markdown",
   "metadata": {},
   "source": [
    "# Como configurar/instalar/usar o `ventoy` no `Linux Ubuntu`\n",
    "\n",
    "## Resumo\n",
    "\n",
    "Neste documento estão contidos os principais comandos e configurações para configurar/instalar/usar o `ventoy` no `Linux Ubuntu`.\n",
    "\n",
    "## _Abstract_\n",
    "\n",
    "_This document contains the main commands and settings for configuring/installing/using the `ventoy` on `Linux Ubuntu`._\n"
   ]
  },
  {
   "cell_type": "markdown",
   "metadata": {},
   "source": [
    "## Descrição [2]\n",
    "\n",
    "### `ventoy`\n",
    "\n",
    "O Ventoy é uma ferramenta de código aberto que permite criar um pendrive bootável multifuncional. Com o Ventoy, é possível copiar várias imagens ISO para o pendrive e inicializá-las diretamente sem precisar gravar o pendrive novamente. Isso oferece flexibilidade para usuários que precisam manter diversas ferramentas de inicialização, como sistemas operacionais e utilitários de diagnóstico, em um único dispositivo.\n"
   ]
  },
  {
   "cell_type": "markdown",
   "metadata": {},
   "source": [
    "## 1. Como configurar/instalar/usar o `ventoy` no `Linux Ubuntu` [1][3]\n",
    "\n",
    "Para configurar/instalar/usar o `ventoy` no `Linux Ubuntu`, você pode seguir estes passos:\n",
    "\n",
    "1. Abra o `Terminal Emulator`. Você pode fazer isso pressionando: `Ctrl + Alt + T`"
   ]
  },
  {
   "cell_type": "markdown",
   "metadata": {},
   "source": [
    "2. Certifique-se de que seu sistema esteja limpo e atualizado.\n",
    "\n",
    "    2.1 Limpar o `cache` do gerenciador de pacotes `apt`. Especificamente, ele remove todos os arquivos de pacotes (`.deb`) baixados pelo `apt` e armazenados em `/var/cache/apt/archives/`. Digite o seguinte comando: `sudo apt clean` \n",
    "    \n",
    "    2.2 Remover pacotes `.deb` antigos ou duplicados do cache local. É útil para liberar espaço, pois remove apenas os pacotes que não podem mais ser baixados (ou seja, versões antigas de pacotes que foram atualizados). Digite o seguinte comando: `sudo apt autoclean`\n",
    "\n",
    "    2.3 Remover pacotes que foram automaticamente instalados para satisfazer as dependências de outros pacotes e que não são mais necessários. Digite o seguinte comando: `sudo apt autoremove -y`\n",
    "\n",
    "    2.4 Buscar as atualizações disponíveis para os pacotes que estão instalados em seu sistema. Digite o seguinte comando e pressione `Enter`: `sudo apt update`\n",
    "\n",
    "    2.5 **Corrigir pacotes quebrados**: Isso atualizará a lista de pacotes disponíveis e tentará corrigir pacotes quebrados ou com dependências ausentes: `sudo apt --fix-broken install`\n",
    "\n",
    "    2.6 Limpar o `cache` do gerenciador de pacotes `apt`. Especificamente, ele remove todos os arquivos de pacotes (`.deb`) baixados pelo `apt` e armazenados em `/var/cache/apt/archives/`. Digite o seguinte comando: `sudo apt clean` \n",
    "    \n",
    "    2.7 Para ver a lista de pacotes a serem atualizados, digite o seguinte comando e pressione `Enter`:  `sudo apt list --upgradable`\n",
    "\n",
    "    2.8 Realmente atualizar os pacotes instalados para as suas versões mais recentes, com base na última vez que você executou `sudo apt update`. Digite o seguinte comando e pressione `Enter`: `sudo apt full-upgrade -y`\n",
    "   "
   ]
  },
  {
   "cell_type": "markdown",
   "metadata": {},
   "source": [
    "https://chat.openai.com/c/7a691ad1-1357-48f3-85fc-a3b083d9f2c6\n",
    "\n",
    "Para instalar o `Ventoy` no `Linux Ubuntu` pelo `Terminal Emulator`, você pode seguir os passos abaixo. O `Ventoy` é uma ferramenta de código aberto que permite criar um drive USB bootável contendo várias imagens `.iso`, permitindo que você escolha qual sistema operacional inicializar durante a partida do computador.\n",
    "\n",
    "1. **Baixe o pacote Ventoy:** Primeiro, você precisa baixar o pacote mais recente do Ventoy do site oficial. Você pode fazer isso visitando `https://www.ventoy.net` e navegando até a seção de download para baixar a versão para `Linux`.\n",
    "\n",
    "2. **Extraia o arquivo baixado:** Após o download, você precisará extrair o arquivo. Você pode fazer isso com o comando `tar` no terminal. Supondo que o arquivo baixado esteja no diretório Downloads, o comando seria algo como: `tar -xvzf ~/Downloads/ventoy-x.x.x-linux.tar.gz`\n",
    "\n",
    "    Substitua `ventoy-x.x.x-linux.tar.gz` pelo nome do arquivo que você baixou.\n",
    "\n",
    "2. **Navegue até o diretório extraído:** Uma vez extraído, navegue até o diretório do `Ventoy` usando o comando `cd`: `cd ventoy-1.0.97`\n",
    "\n",
    "    **NÃO** se esqueça de colocar a pasta do Ventoy em `~/Downloads`, se não, você terá dificuldades em instalá-lo.\n",
    "\n",
    "3. **Instale o `Ventoy` no seu drive USB:** Primeiro, você precisa identificar o dispositivo USB em que deseja instalar o Ventoy. Use o comando `lsblk` para listar todos os dispositivos de bloco e identificar seu drive USB. Tenha cuidado para selecionar o dispositivo correto, pois o processo irá formatar o drive e todos os dados existentes serão perdidos: `lsblk`\n",
    "\n",
    "4. Identifique seu drive USB (por exemplo, `/dev/sdc`) e prossiga com a instalação do `Ventoy` nesse drive. Substitua `/dev/sdx` pelo caminho correto do seu drive USB. `sudo ./Ventoy2Disk.sh -i /dev/sdx`\n",
    "\n",
    "    - **`-i`:** significa instalar o `Ventoy` no dispositivo especificado.\n",
    "\n",
    "    **Nota:** Tenha certeza de substituir `/dev/sdx` pelo identificador correto do seu drive USB. Você não quer acidentalmente formatar o dispositivo errado.\n",
    "\n",
    "Esses passos devem instalar o `Ventoy` no seu drive USB, permitindo que você copie imagens ISO para o drive e as inicialize diretamente através do menu de boot do Ventoy.\n",
    "\n",
    "5. Copie os arquivos `.iso` para a pendrive que foi formatado pelo Ventoy, pronto, agora você possui um pendrive multiboot com um ou vários sistemas operacionais.\n",
    "\n",
    "**Importante:** Antes de executar comandos, especialmente aqueles que modificam partições ou dispositivos, como a instalação do Ventoy, certifique-se de ter backups de seus dados e de ter lido e entendido cada passo. Comandos como `sudo ./Ventoy2Disk.sh -i /dev/sdx` podem causar a perda de dados se direcionados ao dispositivo errado."
   ]
  },
  {
   "cell_type": "markdown",
   "metadata": {
    "vscode": {
     "languageId": "plaintext"
    }
   },
   "source": [
    "### 1.1 Código completo para configurar/instalar/usar\n",
    "\n",
    "Para configurar/instalar/usar o `ventoy` no `Linux Ubuntu` sem precisar digitar linha por linha, você pode seguir estas etapas:\n",
    "\n",
    "1. Abra o `Terminal Emulator`. Você pode fazer isso pressionando: `Ctrl + Alt + T`\n",
    "\n",
    "2. Digite o seguinte comando e pressione `Enter`:\n",
    "\n",
    "    ```\n",
    "    NÂO há.\n",
    "    ```\n"
   ]
  },
  {
   "cell_type": "markdown",
   "metadata": {
    "vscode": {
     "languageId": "plaintext"
    }
   },
   "source": [
    "## Referências\n",
    "\n",
    "[1] OPENAI. ***Instalar Ventoy no Ubuntu.*** Disponível em: <https://chat.openai.com/c/f274e863-9214-4f34-9adf-b8b1fdf17029> (texto adaptado). Acessado em: 03/04/2023 17:11.\n",
    "\n",
    "[2] OPENAI. ***Vs code: editor popular.*** Disponível em: <https://chat.openai.com/c/b640a25d-f8e3-4922-8a3b-ed74a2657e42> (texto adaptado). Acessado em: 03/04/2024 17:10.\n"
   ]
  }
 ],
 "metadata": {
  "kernelspec": {
   "display_name": "Python 3",
   "language": "python",
   "name": "python3"
  },
  "language_info": {
   "codemirror_mode": {
    "name": "ipython",
    "version": 3
   },
   "file_extension": ".py",
   "mimetype": "text/x-python",
   "name": "python",
   "nbconvert_exporter": "python",
   "pygments_lexer": "ipython3",
   "version": "3.11.8"
  },
  "orig_nbformat": 4
 },
 "nbformat": 4,
 "nbformat_minor": 2
}
